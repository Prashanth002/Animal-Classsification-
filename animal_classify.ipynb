{
  "nbformat": 4,
  "nbformat_minor": 0,
  "metadata": {
    "colab": {
      "name": "animal_classify.ipynb",
      "provenance": [],
      "collapsed_sections": []
    },
    "kernelspec": {
      "name": "python3",
      "display_name": "Python 3"
    },
    "accelerator": "GPU"
  },
  "cells": [
    {
      "cell_type": "code",
      "metadata": {
        "id": "qBmuyZwGyIJs",
        "colab": {
          "base_uri": "https://localhost:8080/",
          "height": 1000
        },
        "outputId": "c537ca39-a6df-4348-a43d-587a51eb699b"
      },
      "source": [
        "import tensorflow as tensorFlow\n",
        "import matplotlib.pyplot as plt\n",
        "import numpy as np\n",
        "import pandas as pd\n",
        "import os\n",
        "from tensorflow.keras.models import Sequential\n",
        "from tensorflow.keras.layers import Dense,Conv2D, Flatten, Dropout, MaxPooling2D, Dropout\n",
        "import matplotlib.pyplot as plt\n",
        "import PIL\n",
        "import matplotlib.image as mpimg\n",
        "from tensorflow.keras.preprocessing import image\n",
        "from tensorflow.keras.preprocessing.image import img_to_array, load_img\n",
        " \n",
        " \n",
        "base_directory = r'/content/drive/My Drive/Homework'\n",
        "train_directory = os.path.join(base_directory, 'train')\n",
        "test_directory = os.path.join(base_directory, 'test')\n",
        " \n",
        " \n",
        " \n",
        "train_cats_dir = os.path.join(train_directory, 'cats')\n",
        "train_dogs_dir = os.path.join(train_directory, 'dogs')\n",
        "train_monkeys_dir = os.path.join(train_directory, 'monkey')\n",
        "train_pandas_dir = os.path.join(train_directory, 'panda')\n",
        "train_cheetah_dir = os.path.join(train_directory, 'cheetah')\n",
        " \n",
        " \n",
        "test_cats_dir = os.path.join(test_directory, 'cats')\n",
        "test_dogs_dir = os.path.join(test_directory, 'dogs')\n",
        "test_monkeys_dir = os.path.join(test_directory, 'monkey')\n",
        "test_pandas_dir = os.path.join(test_directory, 'panda')\n",
        "test_cheetah_dir = os.path.join(test_directory, 'cheetah')\n",
        " \n",
        "train_cat_fnames = os.listdir( train_cats_dir )\n",
        "train_dog_fnames = os.listdir( train_dogs_dir )\n",
        "train_monkey_fnames = os.listdir( train_monkeys_dir )\n",
        "train_panda_fnames = os.listdir( train_pandas_dir )\n",
        "train_cheetah_fnames = os.listdir( train_cheetah_dir )\n",
        "\n",
        "\n",
        "print('total training cat images :', len(os.listdir( train_cats_dir ) ))\n",
        "print('total training dog images :', len(os.listdir( train_dogs_dir ) ))\n",
        "print('total training monkey images :', len(os.listdir( train_monkeys_dir ) ))\n",
        "print('total training panda images :', len(os.listdir( train_pandas_dir ) ))\n",
        "print('total training cheetah images :', len(os.listdir( train_cheetah_dir ) ))\n",
        "print('total validation cat images :', len(os.listdir( test_cats_dir ) ))\n",
        "print('total validation dog images :', len(os.listdir( test_dogs_dir ) ))\n",
        "print('total validation monkey images :', len(os.listdir( test_monkeys_dir ) ))\n",
        "print('total validation panda images :', len(os.listdir( test_pandas_dir ) ))\n",
        "print('total validation cheetah images :', len(os.listdir( test_cheetah_dir ) ))\n",
        " \n",
        " \n",
        "model = tensorFlow.keras.models.Sequential([\n",
        "tensorFlow.keras.layers.Conv2D(16, (3,3), activation='relu', input_shape=(150, 150, 3)),\n",
        "tensorFlow.keras.layers.MaxPooling2D(2,2),\n",
        "    \n",
        "tensorFlow.keras.layers.Conv2D(16, (3,3), activation='relu', padding='same'),\n",
        "tensorFlow.keras.layers.MaxPooling2D(2,2),\n",
        "    \n",
        "tensorFlow.keras.layers.Conv2D(32, (3,3), activation='relu', padding='same'),\n",
        "tensorFlow.keras.layers.MaxPooling2D(2,2),\n",
        "    \n",
        "tensorFlow.keras.layers.Conv2D(32, (3,3), activation='relu', padding='same'),\n",
        "tensorFlow.keras.layers.MaxPooling2D(2,2),\n",
        "    \n",
        "tensorFlow.keras.layers.Flatten(),\n",
        "    \n",
        "tensorFlow.keras.layers.Dense(512, activation='relu'),\n",
        "Dropout(0.5),\n",
        "    \n",
        "tensorFlow.keras.layers.Dense(5, activation='softmax')\n",
        "])\n",
        "model.summary()\n",
        " \n",
        "from tensorflow.keras.preprocessing.image import ImageDataGenerator\n",
        " \n",
        "from tensorflow.keras.optimizers import Adam,RMSprop\n",
        "model.compile(optimizer=RMSprop(),\n",
        "loss='categorical_crossentropy',\n",
        "metrics = ['acc'])\n",
        " \n",
        "DataGeneration = ImageDataGenerator(\n",
        "        rescale=1./255,\n",
        "        shear_range=0.1,\n",
        "        zoom_range=0.1,\n",
        "        horizontal_flip=True)\n",
        " \n",
        "\n",
        "TrainGeneration = DataGeneration.flow_from_directory(\n",
        "        train_directory,\n",
        "        batch_size = 30,\n",
        "        target_size=(150, 150),\n",
        "        class_mode='categorical')\n",
        " \n",
        "\n",
        "TestGeneration = ImageDataGenerator(rescale=1./255)\n",
        " \n",
        " \n",
        "ValidationGeneration = TestGeneration.flow_from_directory(\n",
        "        test_directory,\n",
        "        target_size=(150, 150),\n",
        "        batch_size = 30,\n",
        "        class_mode='categorical')\n",
        " \n",
        "from tensorflow.keras.callbacks import EarlyStopping, ReduceLROnPlateau\n",
        " \n",
        "reduceLr = ReduceLROnPlateau(monitor='val_loss',mode='min', factor=0.2,\n",
        "                              patience=5, min_lr=0.01)\n",
        " \n",
        "model.fit(\n",
        "        TrainGeneration,\n",
        "        epochs=20,\n",
        "        callbacks=[reduceLr],\n",
        "        validation_data=ValidationGeneration,\n",
        "        )\n",
        "        \n",
        "        \n",
        "DataFramePlotting = pd.DataFrame(model.history.history)\n",
        "DataFramePlotting.plot()"
      ],
      "execution_count": null,
      "outputs": [
        {
          "output_type": "stream",
          "text": [
            "total training cat images : 800\n",
            "total training dog images : 800\n",
            "total training monkey images : 800\n",
            "total training panda images : 800\n",
            "total training cheetah images : 800\n",
            "total validation cat images : 200\n",
            "total validation dog images : 200\n",
            "total validation monkey images : 200\n",
            "total validation panda images : 200\n",
            "total validation cheetah images : 200\n",
            "Model: \"sequential\"\n",
            "_________________________________________________________________\n",
            "Layer (type)                 Output Shape              Param #   \n",
            "=================================================================\n",
            "conv2d (Conv2D)              (None, 148, 148, 16)      448       \n",
            "_________________________________________________________________\n",
            "max_pooling2d (MaxPooling2D) (None, 74, 74, 16)        0         \n",
            "_________________________________________________________________\n",
            "conv2d_1 (Conv2D)            (None, 74, 74, 16)        2320      \n",
            "_________________________________________________________________\n",
            "max_pooling2d_1 (MaxPooling2 (None, 37, 37, 16)        0         \n",
            "_________________________________________________________________\n",
            "conv2d_2 (Conv2D)            (None, 37, 37, 32)        4640      \n",
            "_________________________________________________________________\n",
            "max_pooling2d_2 (MaxPooling2 (None, 18, 18, 32)        0         \n",
            "_________________________________________________________________\n",
            "conv2d_3 (Conv2D)            (None, 18, 18, 32)        9248      \n",
            "_________________________________________________________________\n",
            "max_pooling2d_3 (MaxPooling2 (None, 9, 9, 32)          0         \n",
            "_________________________________________________________________\n",
            "flatten (Flatten)            (None, 2592)              0         \n",
            "_________________________________________________________________\n",
            "dense (Dense)                (None, 512)               1327616   \n",
            "_________________________________________________________________\n",
            "dropout (Dropout)            (None, 512)               0         \n",
            "_________________________________________________________________\n",
            "dense_1 (Dense)              (None, 5)                 2565      \n",
            "=================================================================\n",
            "Total params: 1,346,837\n",
            "Trainable params: 1,346,837\n",
            "Non-trainable params: 0\n",
            "_________________________________________________________________\n",
            "Found 4000 images belonging to 5 classes.\n",
            "Found 1000 images belonging to 5 classes.\n",
            "Epoch 1/20\n",
            "134/134 [==============================] - 1177s 9s/step - loss: 1.4094 - acc: 0.3997 - val_loss: 1.3391 - val_acc: 0.4400\n",
            "Epoch 2/20\n",
            "134/134 [==============================] - 44s 330ms/step - loss: 1.1328 - acc: 0.5303 - val_loss: 1.2944 - val_acc: 0.4700\n",
            "Epoch 3/20\n",
            "134/134 [==============================] - 43s 320ms/step - loss: 0.9664 - acc: 0.6195 - val_loss: 1.3999 - val_acc: 0.4490\n",
            "Epoch 4/20\n",
            "134/134 [==============================] - 41s 307ms/step - loss: 0.8600 - acc: 0.6600 - val_loss: 1.2810 - val_acc: 0.5830\n",
            "Epoch 5/20\n",
            "134/134 [==============================] - 41s 304ms/step - loss: 0.7972 - acc: 0.6785 - val_loss: 1.1438 - val_acc: 0.5600\n",
            "Epoch 6/20\n",
            "134/134 [==============================] - 41s 307ms/step - loss: 0.7257 - acc: 0.7193 - val_loss: 1.3424 - val_acc: 0.6070\n",
            "Epoch 7/20\n",
            "134/134 [==============================] - 40s 301ms/step - loss: 0.6760 - acc: 0.7250 - val_loss: 1.1695 - val_acc: 0.6160\n",
            "Epoch 8/20\n",
            "134/134 [==============================] - 40s 300ms/step - loss: 0.6362 - acc: 0.7452 - val_loss: 1.2110 - val_acc: 0.5870\n",
            "Epoch 9/20\n",
            "134/134 [==============================] - 40s 302ms/step - loss: 0.6274 - acc: 0.7487 - val_loss: 1.1594 - val_acc: 0.6000\n",
            "Epoch 10/20\n",
            "134/134 [==============================] - 40s 299ms/step - loss: 0.5937 - acc: 0.7628 - val_loss: 0.9765 - val_acc: 0.6570\n",
            "Epoch 11/20\n",
            "134/134 [==============================] - 40s 300ms/step - loss: 0.5516 - acc: 0.7790 - val_loss: 1.2126 - val_acc: 0.6510\n",
            "Epoch 12/20\n",
            "134/134 [==============================] - 40s 300ms/step - loss: 0.5255 - acc: 0.7947 - val_loss: 1.0659 - val_acc: 0.6200\n",
            "Epoch 13/20\n",
            "134/134 [==============================] - 40s 302ms/step - loss: 0.4923 - acc: 0.8025 - val_loss: 1.0198 - val_acc: 0.6490\n",
            "Epoch 14/20\n",
            "134/134 [==============================] - 40s 301ms/step - loss: 0.4971 - acc: 0.8117 - val_loss: 1.4668 - val_acc: 0.6420\n",
            "Epoch 15/20\n",
            "134/134 [==============================] - 40s 300ms/step - loss: 0.4681 - acc: 0.8165 - val_loss: 1.1347 - val_acc: 0.6640\n",
            "Epoch 16/20\n",
            "134/134 [==============================] - 40s 300ms/step - loss: 0.4739 - acc: 0.8170 - val_loss: 1.4426 - val_acc: 0.6040\n",
            "Epoch 17/20\n",
            "134/134 [==============================] - 40s 301ms/step - loss: 0.4312 - acc: 0.8317 - val_loss: 1.1933 - val_acc: 0.6520\n",
            "Epoch 18/20\n",
            "134/134 [==============================] - 40s 299ms/step - loss: 0.4385 - acc: 0.8317 - val_loss: 1.6655 - val_acc: 0.6300\n",
            "Epoch 19/20\n",
            "134/134 [==============================] - 40s 299ms/step - loss: 0.4084 - acc: 0.8470 - val_loss: 0.8901 - val_acc: 0.6970\n",
            "Epoch 20/20\n",
            "134/134 [==============================] - 40s 299ms/step - loss: 0.4010 - acc: 0.8490 - val_loss: 1.7718 - val_acc: 0.6210\n"
          ],
          "name": "stdout"
        },
        {
          "output_type": "execute_result",
          "data": {
            "text/plain": [
              "<matplotlib.axes._subplots.AxesSubplot at 0x7f606c687128>"
            ]
          },
          "metadata": {
            "tags": []
          },
          "execution_count": 7
        },
        {
          "output_type": "display_data",
          "data": {
            "image/png": "[encoded data removed]",
            "text/plain": [
              "<Figure size 432x288 with 1 Axes>"
            ]
          },
          "metadata": {
            "tags": [],
            "needs_background": "light"
          }
        }
      ]
    },
    {
      "cell_type": "code",
      "metadata": {
        "id": "RnIB3yOdUN9y",
        "colab": {
          "base_uri": "https://localhost:8080/"
        },
        "outputId": "df31e51a-a33e-47c7-e09c-ae573c00755a"
      },
      "source": [
        "from google.colab import drive\n",
        "drive.mount('/content/drive')"
      ],
      "execution_count": null,
      "outputs": [
        {
          "output_type": "stream",
          "text": [
            "Mounted at /content/drive\n"
          ],
          "name": "stdout"
        }
      ]
    },
    {
      "cell_type": "code",
      "metadata": {
        "id": "j8K0ynMcg3YT",
        "colab": {
          "base_uri": "https://localhost:8080/"
        },
        "outputId": "5b7784ac-e283-43c6-fcb1-ba99ed3ec257"
      },
      "source": [
        "import tensorflow as tensorFlow\n",
        "import matplotlib.pyplot as plt\n",
        "import numpy as np\n",
        "import pandas as pd\n",
        "import os\n",
        "from tensorflow.keras.models import Sequential\n",
        "from tensorflow.keras.layers import Dense,Conv2D, Flatten, Dropout, MaxPooling2D, Dropout\n",
        "import matplotlib.pyplot as plt\n",
        "import PIL\n",
        "import matplotlib.image as mpimg\n",
        "from tensorflow.keras.preprocessing import image\n",
        "from tensorflow.keras.preprocessing.image import img_to_array, load_img\n",
        "ImagePath=r'/content/2.jpg'\n",
        "img=image.load_img(ImagePath, target_size=(150, 150))\n",
        "imgArray=image.img_to_array(img)\n",
        "imgArray=np.expand_dims(imgArray, axis=0)\n",
        "stackedImages = np.vstack([imgArray])\n",
        "ImageClass = model.predict(stackedImages, batch_size=10)\n",
        "ImageClass_Number = model.predict_classes(stackedImages, batch_size=10)\n",
        "print(ImageClass)\n"
      ],
      "execution_count": null,
      "outputs": [
        {
          "output_type": "stream",
          "text": [
            "WARNING:tensorflow:From <ipython-input-8-910b713be7ec>:19: Sequential.predict_classes (from tensorflow.python.keras.engine.sequential) is deprecated and will be removed after 2021-01-01.\n",
            "Instructions for updating:\n",
            "Please use instead:* `np.argmax(model.predict(x), axis=-1)`,   if your model does multi-class classification   (e.g. if it uses a `softmax` last-layer activation).* `(model.predict(x) > 0.5).astype(\"int32\")`,   if your model does binary classification   (e.g. if it uses a `sigmoid` last-layer activation).\n",
            "[[0. 0. 0. 0. 1.]]\n"
          ],
          "name": "stdout"
        }
      ]
    },
    {
      "cell_type": "code",
      "metadata": {
        "id": "hiLm7OUWbyFg",
        "colab": {
          "base_uri": "https://localhost:8080/"
        },
        "outputId": "b01626dc-0c85-4c01-e258-e80f9638fb66"
      },
      "source": [
        "print(TrainGeneration.class_indices)"
      ],
      "execution_count": null,
      "outputs": [
        {
          "output_type": "stream",
          "text": [
            "{'cats': 0, 'cheetah': 1, 'dogs': 2, 'monkey': 3, 'panda': 4}\n"
          ],
          "name": "stdout"
        }
      ]
    },
    {
      "cell_type": "code",
      "metadata": {
        "id": "GT5I3qWtwoR3"
      },
      "source": [
        "class_dictionary = TrainGeneration.class_indices  \n",
        "inv_map = {v: k for k, v in class_dictionary.items()}  \n",
        "print(\"The Image given is predicted as {}\".format(inv_map[ImageClass_Number[0]]))\n",
        "\n",
        "if ImageClass_Number[0] == 0:\n",
        "  predict_dir = train_cats_dir\n",
        "elif ImageClass_Number[0] == 1:\n",
        "  predict_dir = train_cheetah_dir\n",
        "elif ImageClass_Number[0] == 2:\n",
        "  predict_dir = train_dogs_dir\n",
        "elif ImageClass_Number[0] == 3:\n",
        "  predict_dir = train_monkeys_dir\n",
        "else:\n",
        "  predict_dir = train_pandas_dir\n",
        "\n",
        "import random\n",
        "predictImageName = random.choice([x for x in os.listdir(predict_dir)\n",
        "               if os.path.isfile(os.path.join(predict_dir, x))])\n",
        "predictImage = mpimg.imread(os.path.join(predict_dir, predictImageName))\n",
        "\n",
        "plt.subplot(1,2,1)\n",
        "plt.imshow(mpimg.imread(ImagePath))\n",
        "\n",
        "plt.subplot(1,2,2)\n",
        "plt.imshow(predictImage)\n",
        "\n",
        "plt.show()\n"
      ],
      "execution_count": null,
      "outputs": []
    },
    {
      "cell_type": "code",
      "metadata": {
        "id": "4aWFLkJmVLt9"
      },
      "source": [
        "import cv2 \n",
        "sim=[]\n",
        "\n",
        "image = cv2.imread(ImagePath)\n",
        "gray_image = cv2.cvtColor(image,cv2.COLOR_BGR2GRAY)\n",
        "myhist = cv2.calcHist([gray_image], [0],None, [256], [0, 256]) \n",
        "for filename in os.listdir(predict_dir):\n",
        "  image = cv2.imread(os.path.join(predict_dir, filename))\n",
        "  gray_image = cv2.cvtColor(image,cv2.COLOR_BGR2GRAY)\n",
        "  histogram = cv2.calcHist([gray_image], [0],None, [256], [0, 256])\n",
        "  i=0\n",
        "  c1=0\n",
        "  while i<len(histogram) and i<len(myhist):\n",
        "    c1+=(histogram[i]-myhist[i])**2\n",
        "    i+= 1\n",
        "  c1 = c1**(1 / 2)\n",
        "  sim.append(c1)\n",
        "\n",
        "minIndex=sim.index(min(sim))\n",
        "\n",
        "i=0\n",
        "\n",
        "for filename in os.listdir(predict_dir):\n",
        "  if i==minIndex:\n",
        "    plt.subplot(1,2,1)\n",
        "    plt.imshow(mpimg.imread(ImagePath))\n",
        "    plt.subplot(1,2,2)\n",
        "    plt.imshow(mpimg.imread(os.path.join(predict_dir, filename)))\n",
        "    plt.show()\n",
        "    break;\n",
        "  i=i+1\n",
        "     \n",
        "   \n",
        "\n",
        "\n"
      ],
      "execution_count": null,
      "outputs": []
    },
    {
      "cell_type": "code",
      "metadata": {
        "id": "1RHnxJuSwwwQ"
      },
      "source": [
        ""
      ],
      "execution_count": null,
      "outputs": []
    }
  ]
}